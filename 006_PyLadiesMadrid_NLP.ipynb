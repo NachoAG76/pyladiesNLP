{
 "cells": [
  {
   "cell_type": "markdown",
   "metadata": {},
   "source": [
    "<img src=\"pylogo.PNG\" alt=\"Logo\" style=\"width: 500px;\"/>"
   ]
  },
  {
   "cell_type": "markdown",
   "metadata": {},
   "source": [
    "# 006 - PyLadiesMadrid: Procesamiento del Lenguaje Natural"
   ]
  },
  {
   "cell_type": "markdown",
   "metadata": {},
   "source": [
    "### **Claudia Guirao Fernández**\n",
    "_Data Scientist @ Kernel Analytics_"
   ]
  },
  {
   "cell_type": "markdown",
   "metadata": {},
   "source": [
    "Objetivos de hoy:\n",
    "* Introducir las herramientas y librerías de text mining y NLP en Python\n",
    "* Ver como se pueden realizar estas operaciones en Python\n",
    "* Descubrir con un corpus en Español algunas curiosidades interesantes sobre los Premios Goya al cine español"
   ]
  },
  {
   "cell_type": "markdown",
   "metadata": {},
   "source": [
    "## 1. _Basics_ sobre string en Python"
   ]
  },
  {
   "cell_type": "code",
   "execution_count": 1,
   "metadata": {
    "collapsed": false
   },
   "outputs": [
    {
     "name": "stdout",
     "output_type": "stream",
     "text": [
      "¡Hola 'Pyladies Madrid'!\n"
     ]
    }
   ],
   "source": [
    "mystring = '¡Hola Pyladies Madrid!'\n",
    "mystring2 = \"¡Hola 'Pyladies Madrid'!\"\n",
    "print(mystring2)"
   ]
  },
  {
   "cell_type": "code",
   "execution_count": 2,
   "metadata": {
    "collapsed": false
   },
   "outputs": [
    {
     "name": "stdout",
     "output_type": "stream",
     "text": [
      "22 longitud de la cadena\n",
      "2 posición\n",
      "3 veces\n"
     ]
    }
   ],
   "source": [
    "print(str(len(mystring)) + ' longitud de la cadena') \n",
    "print(str(mystring.index(\"o\")) + ' posición')  #primera ocurrencia\n",
    "print(str(mystring.count(\"a\")) + ' veces') #contar el número de ocurrencias"
   ]
  },
  {
   "cell_type": "code",
   "execution_count": 3,
   "metadata": {
    "collapsed": false
   },
   "outputs": [
    {
     "name": "stdout",
     "output_type": "stream",
     "text": [
      "¡HOLA PYLADIES MADRID!\n",
      "¡hola pyladies madrid!\n"
     ]
    }
   ],
   "source": [
    "print(mystring.upper())\n",
    "print(mystring.lower())"
   ]
  },
  {
   "cell_type": "code",
   "execution_count": 4,
   "metadata": {
    "collapsed": false
   },
   "outputs": [
    {
     "name": "stdout",
     "output_type": "stream",
     "text": [
      "a\n",
      "Hola\n",
      "!dirdaM seidalyP aloH¡\n"
     ]
    }
   ],
   "source": [
    "print(mystring[4])\n",
    "print(mystring[1:5])\n",
    "print(mystring[::-1])"
   ]
  },
  {
   "cell_type": "markdown",
   "metadata": {},
   "source": [
    "Más información: [Basic String Operations](https://www.learnpython.org/en/Basic_String_Operations)"
   ]
  },
  {
   "cell_type": "markdown",
   "metadata": {},
   "source": [
    "## 2. Conceptos básicos al trabajar con texto"
   ]
  },
  {
   "cell_type": "markdown",
   "metadata": {},
   "source": [
    "* **corpus**: conjunto estructurado de textos / documentos \n",
    "* **stopwords**: es castellano \"palabras vacías\", se filtran de los análisis por su escaso aporte/significado \n",
    "\n",
    "\n",
    "**Normalizar**: el texto consiste en unificar la forma de los textos. Para ello hay distintas operaciones y algoritmos que pueden ayudarnos. \n",
    "1. **tokenizar**: operación consistente en identificar las distintas unidades o tokens, en una frase identificamos las distintas palabras\n",
    "2. **stemming**: consiste en reducir las palabras a su tema (Algoritmo de Porter, Snowball, entre otros)\n",
    "3. **lematizar**: es un proceso lingüístico que consiste en, dada una forma flexionada (es decir, en plural, en femenino, conjugada, etc), hallar el lema correspondiente. El lema es la forma que por convenio se acepta como representante de todas las formas flexionadas de una misma palabra\n",
    "\n",
    "_¿Qué es mejor lematizar o hacer stemming? ¿qué algoritmos funcionan mejor?_\n",
    "\n",
    "Operaciones con el texto normalizado:\n",
    "\n",
    "* **TF**: Calcular la frecuencia de aparición de los términos en uno o varios documentos\n",
    "* **n-gramas**: conjuntos de n palabras que aparecen en el mismo documento\n",
    "* **TF-IDF**:  frecuencia de término – frecuencia inversa de documento (o sea, la frecuencia de ocurrencia del término en la colección de documentos), es una medida numérica que expresa cuán relevante es una palabra para un documento en una colección"
   ]
  },
  {
   "cell_type": "markdown",
   "metadata": {},
   "source": [
    "## 3. Librerías más comunes para el tratamiento de texto"
   ]
  },
  {
   "cell_type": "markdown",
   "metadata": {},
   "source": [
    "* [**NLTK**](https://www.nltk.org/): Librería principal para el procesamiento de texto en Python. Dispone de un [manual online](http://www.nltk.org/book/). Posee una interfaz sencilla y cubre la mayor parte de las operaciones. Fue la primera y es de las más extendidas. \n",
    "* [**Textblob**](http://textblob.readthedocs.io/en/dev/) : De nuevo cumple bastantes de las operaciones de procesamiento del lenguaje, está construida sobre NLTK y pretende ser más intuitiva que la ésta. Incluye un módulo de traducción y detección del idioma. [Ver tutorial](https://www.analyticsvidhya.com/blog/2018/02/natural-language-processing-for-beginners-using-textblob/) Es la segunda en velocidad por delante de NLTK.\n",
    "* [**SpaCy**](https://spacy.io): es la librería más reciente, su interfaz es la muy fácil de utilizar. Posee bastantes modelos ya entrenados incluyendo _deep learning_\n",
    "\n",
    "_(las tres soportan multiples idiomas, quizá SpaCy es la más limitada porque lleva menos años disponible, aunque todas soportan el castellano)_\n",
    "\n",
    "* [**Gensim**](https://radimrehurek.com/gensim/): Complemento de las anteriores, especialmente centrada en el modelado de temática (LDA)"
   ]
  },
  {
   "cell_type": "markdown",
   "metadata": {
    "collapsed": false
   },
   "source": [
    "<img src=\"comparativa.PNG\" alt=\"Comparativa\" style=\"width: 600px;\"/>"
   ]
  },
  {
   "cell_type": "markdown",
   "metadata": {},
   "source": [
    "### ¿Cómo instalar las librerías?"
   ]
  },
  {
   "cell_type": "markdown",
   "metadata": {},
   "source": [
    "```conda install -c conda-forge spacy```\n"
   ]
  },
  {
   "cell_type": "markdown",
   "metadata": {},
   "source": [
    "```python -m spacy download es```\n",
    "\n"
   ]
  },
  {
   "cell_type": "markdown",
   "metadata": {},
   "source": [
    "```conda install -c anaconda nltk```"
   ]
  },
  {
   "cell_type": "markdown",
   "metadata": {},
   "source": [
    "```conda install -c anaconda gensim ```"
   ]
  },
  {
   "cell_type": "code",
   "execution_count": 5,
   "metadata": {
    "collapsed": false
   },
   "outputs": [],
   "source": [
    "# nltk.download()"
   ]
  },
  {
   "cell_type": "markdown",
   "metadata": {},
   "source": [
    "## 4. Let's play"
   ]
  },
  {
   "cell_type": "markdown",
   "metadata": {
    "collapsed": true
   },
   "source": [
    "Importamos las librerías necesarias"
   ]
  },
  {
   "cell_type": "code",
   "execution_count": 6,
   "metadata": {
    "collapsed": false
   },
   "outputs": [],
   "source": [
    "import numpy as np\n",
    "import pandas as pd\n",
    "from IPython.display import display, HTML\n",
    "import nltk\n",
    "import spacy\n",
    "import gensim\n",
    "import re\n",
    "import os\n",
    "import codecs\n",
    "from sklearn import feature_extraction\n",
    "import seaborn as sns\n",
    "import matplotlib.pyplot as plt"
   ]
  },
  {
   "cell_type": "markdown",
   "metadata": {},
   "source": [
    "Cargamos el modelo en español para SpaCy"
   ]
  },
  {
   "cell_type": "code",
   "execution_count": 7,
   "metadata": {
    "collapsed": false
   },
   "outputs": [],
   "source": [
    "import spacy\n",
    "import es_core_news_sm\n",
    "nlp = es_core_news_sm.load()"
   ]
  },
  {
   "cell_type": "markdown",
   "metadata": {},
   "source": [
    "Importamos el fichero de texto que contiene la sinopsis para las películas nominadas desde la edición 14 de los premios.\n",
    "\n",
    "Para obtener esta información he _escrapeado_ la web oficial de los [Premios Goya](premiosgoya.com)"
   ]
  },
  {
   "cell_type": "code",
   "execution_count": 8,
   "metadata": {
    "collapsed": true
   },
   "outputs": [],
   "source": [
    "info_pelis = pd.read_csv(\"sinopsis_nominados_goya.csv\",encoding='latin-1')"
   ]
  },
  {
   "cell_type": "markdown",
   "metadata": {},
   "source": [
    "Al hacer el scrapping de la web el texto contiene algunas cosas que nos gustaría eliminar antes de comenzar"
   ]
  },
  {
   "cell_type": "code",
   "execution_count": 9,
   "metadata": {
    "collapsed": false
   },
   "outputs": [],
   "source": [
    "def clean_Goya(tit):\n",
    "    return(' '.join(tit.split()))\n",
    "    \n",
    "info_pelis['titulo'] = info_pelis.titulo.apply(clean_Goya)\n",
    "info_pelis['descripcion'] = info_pelis.descripcion.apply(clean_Goya)"
   ]
  },
  {
   "cell_type": "markdown",
   "metadata": {},
   "source": [
    "Cargamos el fichero que contiene si las películas han sido nominadas o ganadoras en la categoría mejor película o mejor dirección y añadimos esas columnas a nuestro _dataframe_ original"
   ]
  },
  {
   "cell_type": "code",
   "execution_count": 10,
   "metadata": {
    "collapsed": false
   },
   "outputs": [
    {
     "name": "stdout",
     "output_type": "stream",
     "text": [
      "82 peliculas nominadas a mejor película o a mejor dirección\n"
     ]
    }
   ],
   "source": [
    "premios = pd.read_csv(\"titulo_edicion.csv\", encoding='latin-1', sep=';')\n",
    "info_pelis = pd.merge(info_pelis, premios[['titulo','edicion','nom_mejor_pelicula','gana_mejor_pelicula','nom_mejor_direc','gana_mejor_direc']], on = ['titulo', 'edicion'], how='inner')\n",
    "info_nominadas = info_pelis[(info_pelis.nom_mejor_pelicula == 1) | (info_pelis.nom_mejor_direc==1)]\n",
    "print(str(len(info_nominadas)) + ' peliculas nominadas a mejor película o a mejor dirección')"
   ]
  },
  {
   "cell_type": "code",
   "execution_count": 99,
   "metadata": {
    "collapsed": false
   },
   "outputs": [
    {
     "data": {
      "text/html": [
       "<div>\n",
       "<table border=\"1\" class=\"dataframe\">\n",
       "  <thead>\n",
       "    <tr style=\"text-align: right;\">\n",
       "      <th></th>\n",
       "      <th>descripcion</th>\n",
       "      <th>edicion</th>\n",
       "      <th>titulo</th>\n",
       "      <th>url_peli</th>\n",
       "      <th>nom_mejor_pelicula</th>\n",
       "      <th>gana_mejor_pelicula</th>\n",
       "      <th>nom_mejor_direc</th>\n",
       "      <th>gana_mejor_direc</th>\n",
       "    </tr>\n",
       "  </thead>\n",
       "  <tbody>\n",
       "    <tr>\n",
       "      <th>0</th>\n",
       "      <td>Álvaro quiere ser escritor, pero todo lo que e...</td>\n",
       "      <td>32</td>\n",
       "      <td>El autor</td>\n",
       "      <td>https://www.premiosgoya.com/pelicula/el-autor</td>\n",
       "      <td>1.0</td>\n",
       "      <td>0.0</td>\n",
       "      <td>1.0</td>\n",
       "      <td>0.0</td>\n",
       "    </tr>\n",
       "    <tr>\n",
       "      <th>1</th>\n",
       "      <td>Frida, una niña de seis años, afronta el prime...</td>\n",
       "      <td>32</td>\n",
       "      <td>Estiu 1993</td>\n",
       "      <td>https://www.premiosgoya.com/pelicula/estiu-1993</td>\n",
       "      <td>1.0</td>\n",
       "      <td>0.0</td>\n",
       "      <td>0.0</td>\n",
       "      <td>0.0</td>\n",
       "    </tr>\n",
       "    <tr>\n",
       "      <th>2</th>\n",
       "      <td>Tras haber luchado en la Primera Guerra Carlis...</td>\n",
       "      <td>32</td>\n",
       "      <td>Handia</td>\n",
       "      <td>https://www.premiosgoya.com/pelicula/handia</td>\n",
       "      <td>1.0</td>\n",
       "      <td>0.0</td>\n",
       "      <td>1.0</td>\n",
       "      <td>0.0</td>\n",
       "    </tr>\n",
       "    <tr>\n",
       "      <th>3</th>\n",
       "      <td>A finales de los años 50 Florence Green decide...</td>\n",
       "      <td>32</td>\n",
       "      <td>La librería</td>\n",
       "      <td>https://www.premiosgoya.com/pelicula/la-libreria</td>\n",
       "      <td>1.0</td>\n",
       "      <td>1.0</td>\n",
       "      <td>1.0</td>\n",
       "      <td>1.0</td>\n",
       "    </tr>\n",
       "    <tr>\n",
       "      <th>4</th>\n",
       "      <td>Madrid, años 90. En plena noche, la policía re...</td>\n",
       "      <td>32</td>\n",
       "      <td>Verónica</td>\n",
       "      <td>https://www.premiosgoya.com/pelicula/veronica</td>\n",
       "      <td>1.0</td>\n",
       "      <td>0.0</td>\n",
       "      <td>1.0</td>\n",
       "      <td>0.0</td>\n",
       "    </tr>\n",
       "  </tbody>\n",
       "</table>\n",
       "</div>"
      ],
      "text/plain": [
       "                                         descripcion  edicion       titulo  \\\n",
       "0  Álvaro quiere ser escritor, pero todo lo que e...       32     El autor   \n",
       "1  Frida, una niña de seis años, afronta el prime...       32   Estiu 1993   \n",
       "2  Tras haber luchado en la Primera Guerra Carlis...       32       Handia   \n",
       "3  A finales de los años 50 Florence Green decide...       32  La librería   \n",
       "4  Madrid, años 90. En plena noche, la policía re...       32     Verónica   \n",
       "\n",
       "                                           url_peli  nom_mejor_pelicula  \\\n",
       "0     https://www.premiosgoya.com/pelicula/el-autor                 1.0   \n",
       "1   https://www.premiosgoya.com/pelicula/estiu-1993                 1.0   \n",
       "2       https://www.premiosgoya.com/pelicula/handia                 1.0   \n",
       "3  https://www.premiosgoya.com/pelicula/la-libreria                 1.0   \n",
       "4     https://www.premiosgoya.com/pelicula/veronica                 1.0   \n",
       "\n",
       "   gana_mejor_pelicula  nom_mejor_direc  gana_mejor_direc  \n",
       "0                  0.0              1.0               0.0  \n",
       "1                  0.0              0.0               0.0  \n",
       "2                  0.0              1.0               0.0  \n",
       "3                  1.0              1.0               1.0  \n",
       "4                  0.0              1.0               0.0  "
      ]
     },
     "metadata": {},
     "output_type": "display_data"
    }
   ],
   "source": [
    "display(info_pelis.head())"
   ]
  },
  {
   "cell_type": "markdown",
   "metadata": {},
   "source": [
    "Este es el tipo de información con la que vamos a trabajar:"
   ]
  },
  {
   "cell_type": "code",
   "execution_count": 11,
   "metadata": {
    "collapsed": false
   },
   "outputs": [
    {
     "name": "stdout",
     "output_type": "stream",
     "text": [
      "El autor\n",
      "............\n",
      "Álvaro quiere ser escritor, pero todo lo que escribe es falso, pretencioso, insípido. Trabaja como escribiente en una notaría de Sevilla y su vida es gris, coloreada sólo por sus sueños. Su mujer, Amanda, es todo lo contrario. Siempre ha tenido los pies en la tierra y nunca ha soñado con ser escritora. Sin embargo, es ella la que se pone a escribir y le sale un best-seller. Ironías de la vida. La separación es inevitable. Y en ese momento, Álvaro decide afrontar su sueño: escribir una gran novela. Pero es incapaz; no tiene talento ni imaginación. Guiado por Juan, su profesor de escritura, indaga en los fundamentos de la novela, hasta que un día descubre que la ficción se escribe con la realidad. Álvaro comienza a manipular a sus vecinos y amistades para crear una historia, una historia real que supera a la ficción.\n"
     ]
    }
   ],
   "source": [
    "print(info_nominadas.iloc[0].titulo)\n",
    "print('............')\n",
    "print(info_nominadas.iloc[0].descripcion)"
   ]
  },
  {
   "cell_type": "code",
   "execution_count": 12,
   "metadata": {
    "collapsed": false
   },
   "outputs": [
    {
     "name": "stdout",
     "output_type": "stream",
     "text": [
      "Estiu 1993\n",
      "............\n",
      "Frida, una niña de seis años, afronta el primer verano de su vida con su nueva família adoptiva, tras la muerte de su madre.\n"
     ]
    }
   ],
   "source": [
    "print(info_nominadas.iloc[1].titulo)\n",
    "print('............')\n",
    "print(info_nominadas.iloc[1].descripcion)"
   ]
  },
  {
   "cell_type": "markdown",
   "metadata": {},
   "source": [
    "### Entidades"
   ]
  },
  {
   "cell_type": "markdown",
   "metadata": {},
   "source": [
    "Vamos a localizar entidades mediante SpaCy, de una forma muy sencilla."
   ]
  },
  {
   "cell_type": "code",
   "execution_count": 13,
   "metadata": {
    "collapsed": false
   },
   "outputs": [
    {
     "name": "stdout",
     "output_type": "stream",
     "text": [
      "[('Frida', 'PROPN'), (',', 'PUNCT'), ('una', 'DET'), ('niña', 'NOUN'), ('de', 'ADP'), ('seis', 'NUM'), ('años', 'NOUN'), (',', 'PUNCT'), ('afronta', 'VERB'), ('el', 'DET'), ('primer', 'ADJ'), ('verano', 'NOUN'), ('de', 'ADP'), ('su', 'DET'), ('vida', 'NOUN'), ('con', 'ADP'), ('su', 'DET'), ('nueva', 'ADJ'), ('família', 'NOUN'), ('adoptiva', 'ADJ'), (',', 'PUNCT'), ('tras', 'ADP'), ('la', 'DET'), ('muerte', 'NOUN'), ('de', 'ADP'), ('su', 'DET'), ('madre', 'NOUN'), ('.', 'PUNCT')]\n"
     ]
    }
   ],
   "source": [
    "doc = nlp(info_nominadas.iloc[1].descripcion)\n",
    "print([(w.text, w.pos_) for w in doc])"
   ]
  },
  {
   "cell_type": "markdown",
   "metadata": {},
   "source": [
    "También es posible visualizar esta información y las relaciones entre términos mediante **displacy**"
   ]
  },
  {
   "cell_type": "markdown",
   "metadata": {},
   "source": [
    "<img src=\"Frida.PNG\" alt=\"Comparativa\" style=\"width: 1200px;\"/>"
   ]
  },
  {
   "cell_type": "code",
   "execution_count": null,
   "metadata": {
    "collapsed": false
   },
   "outputs": [],
   "source": [
    "# from spacy import displacy\n",
    "# displacy.serve(doc, style='dep')"
   ]
  },
  {
   "cell_type": "markdown",
   "metadata": {},
   "source": [
    "Para cada documento SpaCy nos ofrece mucha otra información:"
   ]
  },
  {
   "cell_type": "code",
   "execution_count": 14,
   "metadata": {
    "collapsed": false
   },
   "outputs": [
    {
     "data": {
      "text/html": [
       "<div>\n",
       "<table border=\"1\" class=\"dataframe\">\n",
       "  <thead>\n",
       "    <tr style=\"text-align: right;\">\n",
       "      <th></th>\n",
       "      <th>dep</th>\n",
       "      <th>is_alpha</th>\n",
       "      <th>is_stop</th>\n",
       "      <th>lemma</th>\n",
       "      <th>pos</th>\n",
       "      <th>shape</th>\n",
       "      <th>tag</th>\n",
       "      <th>text</th>\n",
       "    </tr>\n",
       "  </thead>\n",
       "  <tbody>\n",
       "    <tr>\n",
       "      <th>0</th>\n",
       "      <td>nsubj</td>\n",
       "      <td>True</td>\n",
       "      <td>False</td>\n",
       "      <td>Frida</td>\n",
       "      <td>PROPN</td>\n",
       "      <td>Xxxxx</td>\n",
       "      <td>PROPN___</td>\n",
       "      <td>Frida</td>\n",
       "    </tr>\n",
       "    <tr>\n",
       "      <th>1</th>\n",
       "      <td>punct</td>\n",
       "      <td>False</td>\n",
       "      <td>False</td>\n",
       "      <td>,</td>\n",
       "      <td>PUNCT</td>\n",
       "      <td>,</td>\n",
       "      <td>PUNCT__PunctType=Comm</td>\n",
       "      <td>,</td>\n",
       "    </tr>\n",
       "    <tr>\n",
       "      <th>2</th>\n",
       "      <td>det</td>\n",
       "      <td>True</td>\n",
       "      <td>True</td>\n",
       "      <td>uno</td>\n",
       "      <td>DET</td>\n",
       "      <td>xxx</td>\n",
       "      <td>DET__Definite=Ind|Gender=Fem|Number=Sing|PronT...</td>\n",
       "      <td>una</td>\n",
       "    </tr>\n",
       "    <tr>\n",
       "      <th>3</th>\n",
       "      <td>appos</td>\n",
       "      <td>True</td>\n",
       "      <td>False</td>\n",
       "      <td>niño</td>\n",
       "      <td>NOUN</td>\n",
       "      <td>xxxx</td>\n",
       "      <td>NOUN__Gender=Fem|Number=Sing</td>\n",
       "      <td>niña</td>\n",
       "    </tr>\n",
       "    <tr>\n",
       "      <th>4</th>\n",
       "      <td>case</td>\n",
       "      <td>True</td>\n",
       "      <td>True</td>\n",
       "      <td>de</td>\n",
       "      <td>ADP</td>\n",
       "      <td>xx</td>\n",
       "      <td>ADP__AdpType=Prep</td>\n",
       "      <td>de</td>\n",
       "    </tr>\n",
       "    <tr>\n",
       "      <th>5</th>\n",
       "      <td>nummod</td>\n",
       "      <td>True</td>\n",
       "      <td>True</td>\n",
       "      <td>seis</td>\n",
       "      <td>NUM</td>\n",
       "      <td>xxxx</td>\n",
       "      <td>NUM__Number=Plur|NumType=Card</td>\n",
       "      <td>seis</td>\n",
       "    </tr>\n",
       "    <tr>\n",
       "      <th>6</th>\n",
       "      <td>nmod</td>\n",
       "      <td>True</td>\n",
       "      <td>False</td>\n",
       "      <td>año</td>\n",
       "      <td>NOUN</td>\n",
       "      <td>xxxx</td>\n",
       "      <td>NOUN__Gender=Masc|Number=Plur</td>\n",
       "      <td>años</td>\n",
       "    </tr>\n",
       "    <tr>\n",
       "      <th>7</th>\n",
       "      <td>punct</td>\n",
       "      <td>False</td>\n",
       "      <td>False</td>\n",
       "      <td>,</td>\n",
       "      <td>PUNCT</td>\n",
       "      <td>,</td>\n",
       "      <td>PUNCT__PunctType=Comm</td>\n",
       "      <td>,</td>\n",
       "    </tr>\n",
       "    <tr>\n",
       "      <th>8</th>\n",
       "      <td>ROOT</td>\n",
       "      <td>True</td>\n",
       "      <td>False</td>\n",
       "      <td>afrontar</td>\n",
       "      <td>VERB</td>\n",
       "      <td>xxxx</td>\n",
       "      <td>VERB__Mood=Ind|Number=Sing|Person=3|Tense=Pres...</td>\n",
       "      <td>afronta</td>\n",
       "    </tr>\n",
       "    <tr>\n",
       "      <th>9</th>\n",
       "      <td>det</td>\n",
       "      <td>True</td>\n",
       "      <td>True</td>\n",
       "      <td>el</td>\n",
       "      <td>DET</td>\n",
       "      <td>xx</td>\n",
       "      <td>DET__Definite=Def|Gender=Masc|Number=Sing|Pron...</td>\n",
       "      <td>el</td>\n",
       "    </tr>\n",
       "    <tr>\n",
       "      <th>10</th>\n",
       "      <td>amod</td>\n",
       "      <td>True</td>\n",
       "      <td>True</td>\n",
       "      <td>﻿1</td>\n",
       "      <td>ADJ</td>\n",
       "      <td>xxxx</td>\n",
       "      <td>ADJ__Gender=Masc|Number=Sing|NumType=Ord</td>\n",
       "      <td>primer</td>\n",
       "    </tr>\n",
       "    <tr>\n",
       "      <th>11</th>\n",
       "      <td>obj</td>\n",
       "      <td>True</td>\n",
       "      <td>False</td>\n",
       "      <td>verano</td>\n",
       "      <td>NOUN</td>\n",
       "      <td>xxxx</td>\n",
       "      <td>NOUN__Gender=Masc|Number=Sing</td>\n",
       "      <td>verano</td>\n",
       "    </tr>\n",
       "    <tr>\n",
       "      <th>12</th>\n",
       "      <td>case</td>\n",
       "      <td>True</td>\n",
       "      <td>True</td>\n",
       "      <td>de</td>\n",
       "      <td>ADP</td>\n",
       "      <td>xx</td>\n",
       "      <td>ADP__AdpType=Prep</td>\n",
       "      <td>de</td>\n",
       "    </tr>\n",
       "    <tr>\n",
       "      <th>13</th>\n",
       "      <td>det</td>\n",
       "      <td>True</td>\n",
       "      <td>True</td>\n",
       "      <td>su</td>\n",
       "      <td>DET</td>\n",
       "      <td>xx</td>\n",
       "      <td>DET__Number=Sing|Person=3|Poss=Yes|PronType=Prs</td>\n",
       "      <td>su</td>\n",
       "    </tr>\n",
       "    <tr>\n",
       "      <th>14</th>\n",
       "      <td>nmod</td>\n",
       "      <td>True</td>\n",
       "      <td>False</td>\n",
       "      <td>vida</td>\n",
       "      <td>NOUN</td>\n",
       "      <td>xxxx</td>\n",
       "      <td>NOUN__Gender=Fem|Number=Sing</td>\n",
       "      <td>vida</td>\n",
       "    </tr>\n",
       "    <tr>\n",
       "      <th>15</th>\n",
       "      <td>case</td>\n",
       "      <td>True</td>\n",
       "      <td>True</td>\n",
       "      <td>con</td>\n",
       "      <td>ADP</td>\n",
       "      <td>xxx</td>\n",
       "      <td>ADP__AdpType=Prep</td>\n",
       "      <td>con</td>\n",
       "    </tr>\n",
       "    <tr>\n",
       "      <th>16</th>\n",
       "      <td>det</td>\n",
       "      <td>True</td>\n",
       "      <td>True</td>\n",
       "      <td>su</td>\n",
       "      <td>DET</td>\n",
       "      <td>xx</td>\n",
       "      <td>DET__Number=Sing|Person=3|Poss=Yes|PronType=Prs</td>\n",
       "      <td>su</td>\n",
       "    </tr>\n",
       "    <tr>\n",
       "      <th>17</th>\n",
       "      <td>amod</td>\n",
       "      <td>True</td>\n",
       "      <td>True</td>\n",
       "      <td>nuevo</td>\n",
       "      <td>ADJ</td>\n",
       "      <td>xxxx</td>\n",
       "      <td>ADJ__Gender=Fem|Number=Sing</td>\n",
       "      <td>nueva</td>\n",
       "    </tr>\n",
       "    <tr>\n",
       "      <th>18</th>\n",
       "      <td>obl</td>\n",
       "      <td>True</td>\n",
       "      <td>False</td>\n",
       "      <td>família</td>\n",
       "      <td>NOUN</td>\n",
       "      <td>xxxx</td>\n",
       "      <td>NOUN__Gender=Fem|Number=Sing</td>\n",
       "      <td>família</td>\n",
       "    </tr>\n",
       "    <tr>\n",
       "      <th>19</th>\n",
       "      <td>amod</td>\n",
       "      <td>True</td>\n",
       "      <td>False</td>\n",
       "      <td>adoptivo</td>\n",
       "      <td>ADJ</td>\n",
       "      <td>xxxx</td>\n",
       "      <td>ADJ__Gender=Fem|Number=Sing</td>\n",
       "      <td>adoptiva</td>\n",
       "    </tr>\n",
       "    <tr>\n",
       "      <th>20</th>\n",
       "      <td>punct</td>\n",
       "      <td>False</td>\n",
       "      <td>False</td>\n",
       "      <td>,</td>\n",
       "      <td>PUNCT</td>\n",
       "      <td>,</td>\n",
       "      <td>PUNCT__PunctType=Comm</td>\n",
       "      <td>,</td>\n",
       "    </tr>\n",
       "    <tr>\n",
       "      <th>21</th>\n",
       "      <td>case</td>\n",
       "      <td>True</td>\n",
       "      <td>True</td>\n",
       "      <td>tras</td>\n",
       "      <td>ADP</td>\n",
       "      <td>xxxx</td>\n",
       "      <td>ADP__AdpType=Prep</td>\n",
       "      <td>tras</td>\n",
       "    </tr>\n",
       "    <tr>\n",
       "      <th>22</th>\n",
       "      <td>det</td>\n",
       "      <td>True</td>\n",
       "      <td>True</td>\n",
       "      <td>lo</td>\n",
       "      <td>DET</td>\n",
       "      <td>xx</td>\n",
       "      <td>DET__Definite=Def|Gender=Fem|Number=Sing|PronT...</td>\n",
       "      <td>la</td>\n",
       "    </tr>\n",
       "    <tr>\n",
       "      <th>23</th>\n",
       "      <td>obl</td>\n",
       "      <td>True</td>\n",
       "      <td>False</td>\n",
       "      <td>muerte</td>\n",
       "      <td>NOUN</td>\n",
       "      <td>xxxx</td>\n",
       "      <td>NOUN__Gender=Fem|Number=Sing</td>\n",
       "      <td>muerte</td>\n",
       "    </tr>\n",
       "    <tr>\n",
       "      <th>24</th>\n",
       "      <td>case</td>\n",
       "      <td>True</td>\n",
       "      <td>True</td>\n",
       "      <td>de</td>\n",
       "      <td>ADP</td>\n",
       "      <td>xx</td>\n",
       "      <td>ADP__AdpType=Prep</td>\n",
       "      <td>de</td>\n",
       "    </tr>\n",
       "    <tr>\n",
       "      <th>25</th>\n",
       "      <td>det</td>\n",
       "      <td>True</td>\n",
       "      <td>True</td>\n",
       "      <td>su</td>\n",
       "      <td>DET</td>\n",
       "      <td>xx</td>\n",
       "      <td>DET__Number=Sing|Person=3|Poss=Yes|PronType=Prs</td>\n",
       "      <td>su</td>\n",
       "    </tr>\n",
       "    <tr>\n",
       "      <th>26</th>\n",
       "      <td>nmod</td>\n",
       "      <td>True</td>\n",
       "      <td>False</td>\n",
       "      <td>madre</td>\n",
       "      <td>NOUN</td>\n",
       "      <td>xxxx</td>\n",
       "      <td>NOUN__Gender=Fem|Number=Sing</td>\n",
       "      <td>madre</td>\n",
       "    </tr>\n",
       "    <tr>\n",
       "      <th>27</th>\n",
       "      <td>punct</td>\n",
       "      <td>False</td>\n",
       "      <td>False</td>\n",
       "      <td>.</td>\n",
       "      <td>PUNCT</td>\n",
       "      <td>.</td>\n",
       "      <td>PUNCT__PunctType=Peri</td>\n",
       "      <td>.</td>\n",
       "    </tr>\n",
       "  </tbody>\n",
       "</table>\n",
       "</div>"
      ],
      "text/plain": [
       "       dep is_alpha is_stop     lemma    pos  shape  \\\n",
       "0    nsubj     True   False     Frida  PROPN  Xxxxx   \n",
       "1    punct    False   False         ,  PUNCT      ,   \n",
       "2      det     True    True       uno    DET    xxx   \n",
       "3    appos     True   False      niño   NOUN   xxxx   \n",
       "4     case     True    True        de    ADP     xx   \n",
       "5   nummod     True    True      seis    NUM   xxxx   \n",
       "6     nmod     True   False       año   NOUN   xxxx   \n",
       "7    punct    False   False         ,  PUNCT      ,   \n",
       "8     ROOT     True   False  afrontar   VERB   xxxx   \n",
       "9      det     True    True        el    DET     xx   \n",
       "10    amod     True    True        ﻿1    ADJ   xxxx   \n",
       "11     obj     True   False    verano   NOUN   xxxx   \n",
       "12    case     True    True        de    ADP     xx   \n",
       "13     det     True    True        su    DET     xx   \n",
       "14    nmod     True   False      vida   NOUN   xxxx   \n",
       "15    case     True    True       con    ADP    xxx   \n",
       "16     det     True    True        su    DET     xx   \n",
       "17    amod     True    True     nuevo    ADJ   xxxx   \n",
       "18     obl     True   False   família   NOUN   xxxx   \n",
       "19    amod     True   False  adoptivo    ADJ   xxxx   \n",
       "20   punct    False   False         ,  PUNCT      ,   \n",
       "21    case     True    True      tras    ADP   xxxx   \n",
       "22     det     True    True        lo    DET     xx   \n",
       "23     obl     True   False    muerte   NOUN   xxxx   \n",
       "24    case     True    True        de    ADP     xx   \n",
       "25     det     True    True        su    DET     xx   \n",
       "26    nmod     True   False     madre   NOUN   xxxx   \n",
       "27   punct    False   False         .  PUNCT      .   \n",
       "\n",
       "                                                  tag      text  \n",
       "0                                            PROPN___     Frida  \n",
       "1                               PUNCT__PunctType=Comm         ,  \n",
       "2   DET__Definite=Ind|Gender=Fem|Number=Sing|PronT...       una  \n",
       "3                        NOUN__Gender=Fem|Number=Sing      niña  \n",
       "4                                   ADP__AdpType=Prep        de  \n",
       "5                       NUM__Number=Plur|NumType=Card      seis  \n",
       "6                       NOUN__Gender=Masc|Number=Plur      años  \n",
       "7                               PUNCT__PunctType=Comm         ,  \n",
       "8   VERB__Mood=Ind|Number=Sing|Person=3|Tense=Pres...   afronta  \n",
       "9   DET__Definite=Def|Gender=Masc|Number=Sing|Pron...        el  \n",
       "10           ADJ__Gender=Masc|Number=Sing|NumType=Ord    primer  \n",
       "11                      NOUN__Gender=Masc|Number=Sing    verano  \n",
       "12                                  ADP__AdpType=Prep        de  \n",
       "13    DET__Number=Sing|Person=3|Poss=Yes|PronType=Prs        su  \n",
       "14                       NOUN__Gender=Fem|Number=Sing      vida  \n",
       "15                                  ADP__AdpType=Prep       con  \n",
       "16    DET__Number=Sing|Person=3|Poss=Yes|PronType=Prs        su  \n",
       "17                        ADJ__Gender=Fem|Number=Sing     nueva  \n",
       "18                       NOUN__Gender=Fem|Number=Sing   família  \n",
       "19                        ADJ__Gender=Fem|Number=Sing  adoptiva  \n",
       "20                              PUNCT__PunctType=Comm         ,  \n",
       "21                                  ADP__AdpType=Prep      tras  \n",
       "22  DET__Definite=Def|Gender=Fem|Number=Sing|PronT...        la  \n",
       "23                       NOUN__Gender=Fem|Number=Sing    muerte  \n",
       "24                                  ADP__AdpType=Prep        de  \n",
       "25    DET__Number=Sing|Person=3|Poss=Yes|PronType=Prs        su  \n",
       "26                       NOUN__Gender=Fem|Number=Sing     madre  \n",
       "27                              PUNCT__PunctType=Peri         .  "
      ]
     },
     "execution_count": 14,
     "metadata": {},
     "output_type": "execute_result"
    }
   ],
   "source": [
    "mytokens = []\n",
    "for token in doc:\n",
    "    mytokens.append({'text': token.text, 'lemma': token.lemma_, 'pos': token.pos_,'tag':token.tag_,'dep':token.dep_,\n",
    "          'shape':token.shape_, 'is_alpha': token.is_alpha, 'is_stop': token.is_stop})\n",
    "pd.DataFrame(mytokens)\n"
   ]
  },
  {
   "cell_type": "markdown",
   "metadata": {},
   "source": [
    "### Stopwords"
   ]
  },
  {
   "cell_type": "markdown",
   "metadata": {},
   "source": [
    "_¿Qué entendemos por palabras vacías?_"
   ]
  },
  {
   "cell_type": "markdown",
   "metadata": {},
   "source": [
    "Cargamos las stopwords predefinidas en español en NLTK "
   ]
  },
  {
   "cell_type": "code",
   "execution_count": 17,
   "metadata": {
    "collapsed": false
   },
   "outputs": [
    {
     "name": "stdout",
     "output_type": "stream",
     "text": [
      "313\n",
      "['de', 'la', 'que', 'el', 'en', 'y', 'a', 'los', 'del', 'se', 'las', 'por', 'un', 'para', 'con', 'no', 'una', 'su', 'al', 'lo', 'como']\n"
     ]
    }
   ],
   "source": [
    "stopwords_spa = nltk.corpus.stopwords.words('spanish')\n",
    "print(len(stopwords_spa))\n",
    "print(stopwords_spa[0:21])"
   ]
  },
  {
   "cell_type": "markdown",
   "metadata": {},
   "source": [
    "Idéntica operación en SpaCy"
   ]
  },
  {
   "cell_type": "code",
   "execution_count": 21,
   "metadata": {
    "collapsed": false
   },
   "outputs": [
    {
     "name": "stdout",
     "output_type": "stream",
     "text": [
      "551\n",
      "['verdad', 'me', 'siendo', 'trabajo', 'aquél', 'demás', 'dado', 'ampleamos', 'podria', 'como', 'siguiente', 'hizo', 'cierto', 'quizás', 'contra', 'excepto', 'hemos', 'hay', 'mencionó', 'fui', 'ninguna']\n"
     ]
    }
   ],
   "source": [
    "from spacy.lang.es.stop_words import STOP_WORDS\n",
    "print(len(STOP_WORDS))\n",
    "print(list(STOP_WORDS)[0:21])"
   ]
  },
  {
   "cell_type": "markdown",
   "metadata": {},
   "source": [
    "En el contexto en el que estamos trabajando conviene añadir algunas otras palabras muy comunes en las sinopsis"
   ]
  },
  {
   "cell_type": "code",
   "execution_count": 20,
   "metadata": {
    "collapsed": false
   },
   "outputs": [],
   "source": [
    "MY_STOP_WORDS = STOP_WORDS.copy()\n",
    "MY_STOP_WORDS.add('cine')\n",
    "MY_STOP_WORDS.add('actor')\n",
    "MY_STOP_WORDS.add('director')\n",
    "MY_STOP_WORDS.add('español')\n",
    "MY_STOP_WORDS.add('película')\n",
    "MY_STOP_WORDS.add('documental')\n",
    "MY_STOP_WORDS.add('historia')\n",
    "MY_STOP_WORDS.add('vida')\n",
    "MY_STOP_WORDS.add('vivir')\n",
    "MY_STOP_WORDS.add('año')"
   ]
  },
  {
   "cell_type": "markdown",
   "metadata": {},
   "source": [
    "Como primera operación vamos a calcular la frecuencia en la que aparece cada término. Excluyendo aquellos que son stopwords, nombres propios o particulas"
   ]
  },
  {
   "cell_type": "code",
   "execution_count": 25,
   "metadata": {
    "collapsed": false
   },
   "outputs": [
    {
     "name": "stderr",
     "output_type": "stream",
     "text": [
      "/home/claudiag/anaconda3/lib/python3.6/site-packages/ipykernel/__main__.py:15: FutureWarning: sort(columns=....) is deprecated, use sort_values(by=.....)\n"
     ]
    }
   ],
   "source": [
    "from __future__ import print_function, unicode_literals\n",
    "import spacy\n",
    "from collections import defaultdict, Counter\n",
    "\n",
    "pos_counts = defaultdict(Counter)\n",
    "words = []\n",
    "for sinop in info_pelis.descripcion:\n",
    "    doc = nlp(sinop)\n",
    "    for token in doc:\n",
    "        if token.is_stop != True and token.is_punct != True and token.pos_ not in ['PROPN', 'CONJ', 'ADP', 'DET']:\n",
    "            words.append(token.lemma_)\n",
    "word_TF = Counter(words)\n",
    "word_TF = pd.DataFrame.from_dict(word_TF, orient='index').reset_index()\n",
    "word_TF = word_TF.rename(index=str, columns={\"index\": \"token\", 0: \"TF\"})\n",
    "word_TF = word_TF.sort('TF', ascending=False)"
   ]
  },
  {
   "cell_type": "markdown",
   "metadata": {},
   "source": [
    "Las 10 palabras más frecuentes son:"
   ]
  },
  {
   "cell_type": "code",
   "execution_count": 28,
   "metadata": {
    "collapsed": false
   },
   "outputs": [
    {
     "data": {
      "text/html": [
       "<div>\n",
       "<table border=\"1\" class=\"dataframe\">\n",
       "  <thead>\n",
       "    <tr style=\"text-align: right;\">\n",
       "      <th></th>\n",
       "      <th>token</th>\n",
       "      <th>TF</th>\n",
       "    </tr>\n",
       "  </thead>\n",
       "  <tbody>\n",
       "    <tr>\n",
       "      <th>8</th>\n",
       "      <td>vida</td>\n",
       "      <td>391</td>\n",
       "    </tr>\n",
       "    <tr>\n",
       "      <th>48</th>\n",
       "      <td>año</td>\n",
       "      <td>332</td>\n",
       "    </tr>\n",
       "    <tr>\n",
       "      <th>207</th>\n",
       "      <td>vivir</td>\n",
       "      <td>205</td>\n",
       "    </tr>\n",
       "    <tr>\n",
       "      <th>130</th>\n",
       "      <td>joven</td>\n",
       "      <td>202</td>\n",
       "    </tr>\n",
       "    <tr>\n",
       "      <th>152</th>\n",
       "      <td>hijo</td>\n",
       "      <td>176</td>\n",
       "    </tr>\n",
       "    <tr>\n",
       "      <th>44</th>\n",
       "      <td>historia</td>\n",
       "      <td>171</td>\n",
       "    </tr>\n",
       "    <tr>\n",
       "      <th>12</th>\n",
       "      <td>mujer</td>\n",
       "      <td>155</td>\n",
       "    </tr>\n",
       "    <tr>\n",
       "      <th>124</th>\n",
       "      <td>casar</td>\n",
       "      <td>155</td>\n",
       "    </tr>\n",
       "    <tr>\n",
       "      <th>131</th>\n",
       "      <td>llegar</td>\n",
       "      <td>146</td>\n",
       "    </tr>\n",
       "    <tr>\n",
       "      <th>64</th>\n",
       "      <td>mundo</td>\n",
       "      <td>143</td>\n",
       "    </tr>\n",
       "  </tbody>\n",
       "</table>\n",
       "</div>"
      ],
      "text/plain": [
       "        token   TF\n",
       "8        vida  391\n",
       "48        año  332\n",
       "207     vivir  205\n",
       "130     joven  202\n",
       "152      hijo  176\n",
       "44   historia  171\n",
       "12      mujer  155\n",
       "124     casar  155\n",
       "131    llegar  146\n",
       "64      mundo  143"
      ]
     },
     "metadata": {},
     "output_type": "display_data"
    }
   ],
   "source": [
    "display(word_TF.head(10))"
   ]
  },
  {
   "cell_type": "code",
   "execution_count": 29,
   "metadata": {
    "collapsed": false
   },
   "outputs": [
    {
     "data": {
      "text/html": [
       "<div>\n",
       "<table border=\"1\" class=\"dataframe\">\n",
       "  <thead>\n",
       "    <tr style=\"text-align: right;\">\n",
       "      <th></th>\n",
       "      <th>token</th>\n",
       "      <th>TF</th>\n",
       "    </tr>\n",
       "  </thead>\n",
       "  <tbody>\n",
       "    <tr>\n",
       "      <th>3134</th>\n",
       "      <td>cine</td>\n",
       "      <td>36</td>\n",
       "    </tr>\n",
       "  </tbody>\n",
       "</table>\n",
       "</div>"
      ],
      "text/plain": [
       "     token  TF\n",
       "3134  cine  36"
      ]
     },
     "metadata": {},
     "output_type": "display_data"
    },
    {
     "data": {
      "text/html": [
       "<div>\n",
       "<table border=\"1\" class=\"dataframe\">\n",
       "  <thead>\n",
       "    <tr style=\"text-align: right;\">\n",
       "      <th></th>\n",
       "      <th>token</th>\n",
       "      <th>TF</th>\n",
       "    </tr>\n",
       "  </thead>\n",
       "  <tbody>\n",
       "    <tr>\n",
       "      <th>654</th>\n",
       "      <td>director</td>\n",
       "      <td>28</td>\n",
       "    </tr>\n",
       "  </tbody>\n",
       "</table>\n",
       "</div>"
      ],
      "text/plain": [
       "        token  TF\n",
       "654  director  28"
      ]
     },
     "metadata": {},
     "output_type": "display_data"
    },
    {
     "data": {
      "text/html": [
       "<div>\n",
       "<table border=\"1\" class=\"dataframe\">\n",
       "  <thead>\n",
       "    <tr style=\"text-align: right;\">\n",
       "      <th></th>\n",
       "      <th>token</th>\n",
       "      <th>TF</th>\n",
       "    </tr>\n",
       "  </thead>\n",
       "  <tbody>\n",
       "    <tr>\n",
       "      <th>1016</th>\n",
       "      <td>español</td>\n",
       "      <td>29</td>\n",
       "    </tr>\n",
       "  </tbody>\n",
       "</table>\n",
       "</div>"
      ],
      "text/plain": [
       "        token  TF\n",
       "1016  español  29"
      ]
     },
     "metadata": {},
     "output_type": "display_data"
    },
    {
     "data": {
      "text/html": [
       "<div>\n",
       "<table border=\"1\" class=\"dataframe\">\n",
       "  <thead>\n",
       "    <tr style=\"text-align: right;\">\n",
       "      <th></th>\n",
       "      <th>token</th>\n",
       "      <th>TF</th>\n",
       "    </tr>\n",
       "  </thead>\n",
       "  <tbody>\n",
       "    <tr>\n",
       "      <th>271</th>\n",
       "      <td>película</td>\n",
       "      <td>81</td>\n",
       "    </tr>\n",
       "  </tbody>\n",
       "</table>\n",
       "</div>"
      ],
      "text/plain": [
       "        token  TF\n",
       "271  película  81"
      ]
     },
     "metadata": {},
     "output_type": "display_data"
    },
    {
     "data": {
      "text/html": [
       "<div>\n",
       "<table border=\"1\" class=\"dataframe\">\n",
       "  <thead>\n",
       "    <tr style=\"text-align: right;\">\n",
       "      <th></th>\n",
       "      <th>token</th>\n",
       "      <th>TF</th>\n",
       "    </tr>\n",
       "  </thead>\n",
       "  <tbody>\n",
       "    <tr>\n",
       "      <th>8</th>\n",
       "      <td>vida</td>\n",
       "      <td>391</td>\n",
       "    </tr>\n",
       "  </tbody>\n",
       "</table>\n",
       "</div>"
      ],
      "text/plain": [
       "  token   TF\n",
       "8  vida  391"
      ]
     },
     "metadata": {},
     "output_type": "display_data"
    },
    {
     "data": {
      "text/html": [
       "<div>\n",
       "<table border=\"1\" class=\"dataframe\">\n",
       "  <thead>\n",
       "    <tr style=\"text-align: right;\">\n",
       "      <th></th>\n",
       "      <th>token</th>\n",
       "      <th>TF</th>\n",
       "    </tr>\n",
       "  </thead>\n",
       "  <tbody>\n",
       "    <tr>\n",
       "      <th>12</th>\n",
       "      <td>mujer</td>\n",
       "      <td>155</td>\n",
       "    </tr>\n",
       "  </tbody>\n",
       "</table>\n",
       "</div>"
      ],
      "text/plain": [
       "    token   TF\n",
       "12  mujer  155"
      ]
     },
     "metadata": {},
     "output_type": "display_data"
    },
    {
     "data": {
      "text/html": [
       "<div>\n",
       "<table border=\"1\" class=\"dataframe\">\n",
       "  <thead>\n",
       "    <tr style=\"text-align: right;\">\n",
       "      <th></th>\n",
       "      <th>token</th>\n",
       "      <th>TF</th>\n",
       "    </tr>\n",
       "  </thead>\n",
       "  <tbody>\n",
       "    <tr>\n",
       "      <th>130</th>\n",
       "      <td>joven</td>\n",
       "      <td>202</td>\n",
       "    </tr>\n",
       "  </tbody>\n",
       "</table>\n",
       "</div>"
      ],
      "text/plain": [
       "     token   TF\n",
       "130  joven  202"
      ]
     },
     "metadata": {},
     "output_type": "display_data"
    }
   ],
   "source": [
    "display(word_TF[word_TF.token == 'cine'])\n",
    "display(word_TF[word_TF.token == 'director'])\n",
    "display(word_TF[word_TF.token == 'español'])\n",
    "display(word_TF[word_TF.token == 'película'])\n",
    "display(word_TF[word_TF.token == 'vida'])\n",
    "\n",
    "display(word_TF[word_TF.token == 'mujer'])\n",
    "display(word_TF[word_TF.token == 'joven'])"
   ]
  },
  {
   "cell_type": "markdown",
   "metadata": {},
   "source": [
    "### Stemmers y lematizadores"
   ]
  },
  {
   "cell_type": "markdown",
   "metadata": {},
   "source": [
    "NLTK ofrece distintos _stemmers_ y _lemmatizers_ con un rendimiento desigual en español:"
   ]
  },
  {
   "cell_type": "markdown",
   "metadata": {},
   "source": [
    "1. Cargamos uno de los stemmer de NLTK: [SnowballStemmer](https://snowballstem.org/algorithms/spanish/stemmer.html)"
   ]
  },
  {
   "cell_type": "code",
   "execution_count": 30,
   "metadata": {
    "collapsed": true
   },
   "outputs": [],
   "source": [
    "from nltk.stem.snowball import SnowballStemmer\n",
    "stemmer_eng = SnowballStemmer(\"english\")\n",
    "stemmer = SnowballStemmer(\"spanish\")"
   ]
  },
  {
   "cell_type": "code",
   "execution_count": 33,
   "metadata": {
    "collapsed": false
   },
   "outputs": [
    {
     "name": "stdout",
     "output_type": "stream",
     "text": [
      "girl\n",
      "chic\n"
     ]
    }
   ],
   "source": [
    "print(stemmer_eng.stem('girls'))\n",
    "print(stemmer.stem('chicas'))"
   ]
  },
  {
   "cell_type": "code",
   "execution_count": 36,
   "metadata": {
    "collapsed": false
   },
   "outputs": [
    {
     "name": "stdout",
     "output_type": "stream",
     "text": [
      "girl\n",
      "chicas\n"
     ]
    }
   ],
   "source": [
    "from nltk.stem import WordNetLemmatizer\n",
    "wordnet_lemmatizer = WordNetLemmatizer()\n",
    "print(wordnet_lemmatizer.lemmatize('girls'))\n",
    "print(wordnet_lemmatizer.lemmatize('chicas'))"
   ]
  },
  {
   "cell_type": "markdown",
   "metadata": {},
   "source": [
    "En SpaCy sólo se han desarrollado lematizadores, aquí un interesante hilo en GitHub [Built-in stemmer?](https://github.com/explosion/spaCy/issues/327)"
   ]
  },
  {
   "cell_type": "code",
   "execution_count": 38,
   "metadata": {
    "collapsed": false
   },
   "outputs": [
    {
     "name": "stdout",
     "output_type": "stream",
     "text": [
      "chico\n"
     ]
    }
   ],
   "source": [
    "doc = nlp('chica')\n",
    "for token in doc:\n",
    "    print(token.lemma_.lower())"
   ]
  },
  {
   "cell_type": "markdown",
   "metadata": {},
   "source": [
    "## 5. Clustering (NLTK, SpaCy, Sklearn)"
   ]
  },
  {
   "cell_type": "markdown",
   "metadata": {},
   "source": [
    "En este apartado vamos a tratar de identificar segmentos de películas agrupando mediante las sinopsis. Esta operación puede apoyarse tanto en las funciones disponibles en NLTK como en SpaCy. "
   ]
  },
  {
   "cell_type": "markdown",
   "metadata": {},
   "source": [
    "### 5.1. Funciones para tokenizar y lematizar. "
   ]
  },
  {
   "cell_type": "markdown",
   "metadata": {},
   "source": [
    "Funciones con NLTK"
   ]
  },
  {
   "cell_type": "code",
   "execution_count": 39,
   "metadata": {
    "collapsed": true
   },
   "outputs": [],
   "source": [
    "def tokenize_and_stem(text):\n",
    "    # Primero se extraen los tokens de una frase, despues se extraen las palabras, \n",
    "    # para asegurar que la puntuación toma su propio tokent \n",
    "    \n",
    "    tokens = [word for sent in nltk.sent_tokenize(text) for word in nltk.word_tokenize(sent)]\n",
    "    filtered_tokens = []\n",
    "    # Solo tomamos los tokens que contienen letras, para evitar tokens numericos y puntuacion\n",
    "    for token in tokens:\n",
    "        if re.search('[a-zA-Z]', token):\n",
    "            filtered_tokens.append(token)\n",
    "    stems = [stemmer.stem(t) for t in filtered_tokens] # se extrae el tema para cada palabra\n",
    "    return stems\n",
    "\n",
    "def tokenize_only(text):\n",
    "    tokens = [word.lower() for sent in nltk.sent_tokenize(text) for word in nltk.word_tokenize(sent)]\n",
    "    filtered_tokens = []\n",
    "    for token in tokens:\n",
    "        if re.search('[a-zA-Z]', token):\n",
    "            filtered_tokens.append(token)\n",
    "    return filtered_tokens"
   ]
  },
  {
   "cell_type": "markdown",
   "metadata": {},
   "source": [
    "Funciones son SpaCy"
   ]
  },
  {
   "cell_type": "code",
   "execution_count": 40,
   "metadata": {
    "collapsed": true
   },
   "outputs": [],
   "source": [
    "def tokenize_and_lemm_spacy(text):\n",
    "    doc = nlp(text)\n",
    "    lemmas = []\n",
    "    for token in doc:\n",
    "        if token.is_stop== False: # aprovechamos para eliminar ya las stopwords\n",
    "            if token.is_alpha== True: # Nos quedamos solo con los tokens que contienen letras \n",
    "                if token.pos_ not in ['PROPN', 'CONJ', 'ADP', 'DET']: # eliminamos nombres propios, conjunciones, determinantes\n",
    "                    lemmas.append(token.lemma_.lower())\n",
    "    return lemmas\n",
    "\n",
    "def tokenize_only_spacy(text):\n",
    "    doc = nlp(text)\n",
    "    tokens = []\n",
    "    for token in doc:\n",
    "        if token.is_stop== False :\n",
    "            if token.is_alpha== True:\n",
    "                if token.pos_ not in ['PROPN', 'CONJ', 'ADP', 'DET']:\n",
    "                    tokens.append(token.text.lower())\n",
    "    return tokens"
   ]
  },
  {
   "cell_type": "code",
   "execution_count": 42,
   "metadata": {
    "collapsed": false
   },
   "outputs": [
    {
     "name": "stdout",
     "output_type": "stream",
     "text": [
      "Frida, una niña de seis años, afronta el primer verano de su vida con su nueva família adoptiva, tras la muerte de su madre.\n",
      "['frida', 'una', 'niña', 'de', 'seis', 'años', 'afronta', 'el', 'primer', 'verano', 'de', 'su', 'vida', 'con', 'su', 'nueva', 'família', 'adoptiva', 'tras', 'la', 'muerte', 'de', 'su', 'madre']\n",
      "['frid', 'una', 'niñ', 'de', 'seis', 'años', 'afront', 'el', 'prim', 'veran', 'de', 'su', 'vid', 'con', 'su', 'nuev', 'famili', 'adopt', 'tras', 'la', 'muert', 'de', 'su', 'madr']\n"
     ]
    }
   ],
   "source": [
    "print(info_nominadas.iloc[1].descripcion)\n",
    "print(tokenize_only(info_nominadas.iloc[1].descripcion))\n",
    "print(tokenize_and_stem(info_nominadas.iloc[1].descripcion))"
   ]
  },
  {
   "cell_type": "code",
   "execution_count": 41,
   "metadata": {
    "collapsed": false
   },
   "outputs": [
    {
     "name": "stdout",
     "output_type": "stream",
     "text": [
      "Frida, una niña de seis años, afronta el primer verano de su vida con su nueva família adoptiva, tras la muerte de su madre.\n",
      "['niña', 'años', 'afronta', 'verano', 'vida', 'família', 'adoptiva', 'muerte', 'madre']\n",
      "['niño', 'año', 'afrontar', 'verano', 'vida', 'família', 'adoptivo', 'muerte', 'madre']\n"
     ]
    }
   ],
   "source": [
    "print(info_nominadas.iloc[1].descripcion)\n",
    "print(tokenize_only_spacy(info_nominadas.iloc[1].descripcion))\n",
    "print(tokenize_and_lemm_spacy(info_nominadas.iloc[1].descripcion))"
   ]
  },
  {
   "cell_type": "markdown",
   "metadata": {},
   "source": [
    "### 5.2. Análisis sobre nuestro corpus"
   ]
  },
  {
   "cell_type": "markdown",
   "metadata": {},
   "source": [
    "Vamos a crear una lista con todas nuestras sinopsis"
   ]
  },
  {
   "cell_type": "code",
   "execution_count": 43,
   "metadata": {
    "collapsed": true
   },
   "outputs": [],
   "source": [
    "synopses = list(info_pelis['descripcion'])"
   ]
  },
  {
   "cell_type": "markdown",
   "metadata": {},
   "source": [
    "Así como una lista de todos los términos encontrados:"
   ]
  },
  {
   "cell_type": "code",
   "execution_count": 44,
   "metadata": {
    "collapsed": false
   },
   "outputs": [],
   "source": [
    "totalvocab_stemmed = []\n",
    "totalvocab_tokenized = []\n",
    "for i in synopses:\n",
    "    allwords_stemmed = tokenize_and_lemm_spacy(i)\n",
    "    totalvocab_stemmed.extend(allwords_stemmed) \n",
    "    \n",
    "    allwords_tokenized = tokenize_only_spacy(i)\n",
    "    totalvocab_tokenized.extend(allwords_tokenized)"
   ]
  },
  {
   "cell_type": "markdown",
   "metadata": {},
   "source": [
    "Con estas dos listas, de tokens y lemas, vamos a crear un DataFrame, que contendrá el lema y en el índice el token. Así podemos rescatar en cualquier momento el token original."
   ]
  },
  {
   "cell_type": "code",
   "execution_count": 45,
   "metadata": {
    "collapsed": false
   },
   "outputs": [
    {
     "name": "stdout",
     "output_type": "stream",
     "text": [
      "there are 29140 items in vocab_frame\n"
     ]
    }
   ],
   "source": [
    "vocab_frame = pd.DataFrame({'words': totalvocab_tokenized}, index = totalvocab_stemmed)\n",
    "print('there are ' + str(vocab_frame.shape[0]) + ' items in vocab_frame')"
   ]
  },
  {
   "cell_type": "code",
   "execution_count": 47,
   "metadata": {
    "collapsed": false
   },
   "outputs": [
    {
     "data": {
      "text/html": [
       "<div>\n",
       "<table border=\"1\" class=\"dataframe\">\n",
       "  <thead>\n",
       "    <tr style=\"text-align: right;\">\n",
       "      <th></th>\n",
       "      <th>words</th>\n",
       "    </tr>\n",
       "  </thead>\n",
       "  <tbody>\n",
       "    <tr>\n",
       "      <th>escritor</th>\n",
       "      <td>escritor</td>\n",
       "    </tr>\n",
       "    <tr>\n",
       "      <th>escribir</th>\n",
       "      <td>escribe</td>\n",
       "    </tr>\n",
       "    <tr>\n",
       "      <th>falso</th>\n",
       "      <td>falso</td>\n",
       "    </tr>\n",
       "    <tr>\n",
       "      <th>pretencioso</th>\n",
       "      <td>pretencioso</td>\n",
       "    </tr>\n",
       "    <tr>\n",
       "      <th>insípido</th>\n",
       "      <td>insípido</td>\n",
       "    </tr>\n",
       "    <tr>\n",
       "      <th>trabaja</th>\n",
       "      <td>trabaja</td>\n",
       "    </tr>\n",
       "    <tr>\n",
       "      <th>escribiente</th>\n",
       "      <td>escribiente</td>\n",
       "    </tr>\n",
       "    <tr>\n",
       "      <th>notar</th>\n",
       "      <td>notaría</td>\n",
       "    </tr>\n",
       "    <tr>\n",
       "      <th>vida</th>\n",
       "      <td>vida</td>\n",
       "    </tr>\n",
       "    <tr>\n",
       "      <th>gris</th>\n",
       "      <td>gris</td>\n",
       "    </tr>\n",
       "  </tbody>\n",
       "</table>\n",
       "</div>"
      ],
      "text/plain": [
       "                   words\n",
       "escritor        escritor\n",
       "escribir         escribe\n",
       "falso              falso\n",
       "pretencioso  pretencioso\n",
       "insípido        insípido\n",
       "trabaja          trabaja\n",
       "escribiente  escribiente\n",
       "notar            notaría\n",
       "vida                vida\n",
       "gris                gris"
      ]
     },
     "execution_count": 47,
     "metadata": {},
     "output_type": "execute_result"
    }
   ],
   "source": [
    "vocab_frame.head(10)"
   ]
  },
  {
   "cell_type": "markdown",
   "metadata": {},
   "source": [
    "A continuación definimos los parametros para la función de frecuencia inversa (tf-idf), para poder convertir la lista de sinopsis en una matriz de términos y documentos. \n",
    "\n",
    "Para alcanzar esta matriz, en primer lugar contamos el número de veces que ocurre una palabra en un documento. Así obtenemos una matriz de términos documentos. "
   ]
  },
  {
   "cell_type": "markdown",
   "metadata": {},
   "source": [
    "<img src=\"tfidf.png\" alt=\"dtm\" style=\"width: 350px;\"/>"
   ]
  },
  {
   "cell_type": "markdown",
   "metadata": {},
   "source": [
    "A continuación esta matriz es ponderada por la frecuencia inversa: palabras que ocurren frecuentemente en un documento pero no en el corpus reciben un peso mayor, asumiendo que aportan un mayor significado en el documento.\n",
    "\n",
    "Sobre los parámetros:\n",
    "* **max_df**:  Es la máxima frecuencia dentro de los documentos que un _feature_ dado puede ser utilizado en la matriz tfi-idf. Si fijamos aquí un umbral mayor al 80% probablemente contenga poco significado, al menos en el contexto de este análisis. \n",
    "* **min_idf**: Puede tomar un porcentaje o un entero. Por ejemplo 3, en ese caso debe aparecer al menos 3 documentos para ser considerado. \n",
    "* **ngram_range**: Vamos a fijarnos solo en unigramas, no en bigramas o trigramas"
   ]
  },
  {
   "cell_type": "code",
   "execution_count": 48,
   "metadata": {
    "collapsed": false
   },
   "outputs": [
    {
     "name": "stdout",
     "output_type": "stream",
     "text": [
      "CPU times: user 47.5 s, sys: 720 ms, total: 48.3 s\n",
      "Wall time: 24.2 s\n",
      "(921, 2472)\n"
     ]
    }
   ],
   "source": [
    "from sklearn.feature_extraction.text import TfidfVectorizer\n",
    "\n",
    "#define vectorizer parameters\n",
    "tfidf_vectorizer = TfidfVectorizer(max_df=0.8, max_features=200000,\n",
    "                                 min_df=3, stop_words=MY_STOP_WORDS,\n",
    "                                 use_idf=True, tokenizer=tokenize_and_lemm_spacy, ngram_range=(1,3))\n",
    "\n",
    "%time tfidf_matrix = tfidf_vectorizer.fit_transform(synopses) #fit the vectorizer to synopses\n",
    "\n",
    "print(tfidf_matrix.shape)"
   ]
  },
  {
   "cell_type": "markdown",
   "metadata": {},
   "source": [
    "_terms_ contiene la lista de features con la que vamos a realizar el cluster"
   ]
  },
  {
   "cell_type": "code",
   "execution_count": 49,
   "metadata": {
    "collapsed": false
   },
   "outputs": [],
   "source": [
    "terms = tfidf_vectorizer.get_feature_names()"
   ]
  },
  {
   "cell_type": "markdown",
   "metadata": {},
   "source": [
    "Calculamos la distancia como 1- similaridad coseno, esto es la medida de similaridad entre nuestros documentos. La resta nos permitirá representarlo en el plano "
   ]
  },
  {
   "cell_type": "code",
   "execution_count": 52,
   "metadata": {
    "collapsed": true
   },
   "outputs": [],
   "source": [
    "from sklearn.metrics.pairwise import cosine_similarity\n",
    "dist = 1 - cosine_similarity(tfidf_matrix)"
   ]
  },
  {
   "cell_type": "markdown",
   "metadata": {},
   "source": [
    "### 5.3. Clustering"
   ]
  },
  {
   "cell_type": "code",
   "execution_count": 53,
   "metadata": {
    "collapsed": false
   },
   "outputs": [
    {
     "name": "stdout",
     "output_type": "stream",
     "text": [
      "CPU times: user 3.57 s, sys: 40 ms, total: 3.61 s\n",
      "Wall time: 1.87 s\n"
     ]
    }
   ],
   "source": [
    "from sklearn.cluster import KMeans\n",
    "num_clusters = 5\n",
    "km = KMeans(n_clusters=num_clusters)\n",
    "%time km.fit(tfidf_matrix)\n",
    "clusters = km.labels_.tolist()"
   ]
  },
  {
   "cell_type": "code",
   "execution_count": 54,
   "metadata": {
    "collapsed": true
   },
   "outputs": [],
   "source": [
    "from sklearn.externals import joblib\n",
    "\n",
    "#Salvamos nuestro modelo, o bien lo cargamos si ya lo hemos ejecutado previamente\n",
    "joblib.dump(km,  'doc_cluster.pkl')\n",
    "#km = joblib.load('doc_cluster.pkl')\n",
    "clusters = km.labels_.tolist()"
   ]
  },
  {
   "cell_type": "markdown",
   "metadata": {},
   "source": [
    "Construimos un pandas dataframe para que sea más cómodo trabajar"
   ]
  },
  {
   "cell_type": "code",
   "execution_count": 55,
   "metadata": {
    "collapsed": false
   },
   "outputs": [],
   "source": [
    "films = {'title':  list(info_pelis.titulo),\n",
    "         'synopsis': list(info_pelis.descripcion), \n",
    "         'edition': list(info_pelis.edicion), \n",
    "         'cluster': clusters, \n",
    "         'nom_mejor_pelicula': list(info_pelis.nom_mejor_pelicula), \n",
    "         'nom_mejor_dire': list(info_pelis.nom_mejor_direc), \n",
    "         'gana_mejor_pelicula': list(info_pelis.gana_mejor_pelicula)}\n",
    "\n",
    "frame = pd.DataFrame(films, index = [clusters] , columns = ['title', 'synopsis', 'edition', 'cluster', 'nom_mejor_pelicula','nom_mejor_dire', 'gana_mejor_pelicula'])"
   ]
  },
  {
   "cell_type": "code",
   "execution_count": 65,
   "metadata": {
    "collapsed": false
   },
   "outputs": [],
   "source": [
    "distribution_clusters = frame[['cluster', 'title']].groupby('cluster').count().reset_index() #numero de peliculas por cluster \n",
    "distribution_clusters_nom = frame[frame.nom_mejor_pelicula==1][['cluster', 'title']].groupby('cluster').count().reset_index() #numero de peliculas nominadas a mejor pelicula por cluster"
   ]
  },
  {
   "cell_type": "markdown",
   "metadata": {},
   "source": [
    "Exploramos el resultado de la clusterización"
   ]
  },
  {
   "cell_type": "code",
   "execution_count": 63,
   "metadata": {
    "collapsed": false
   },
   "outputs": [
    {
     "data": {
      "image/png": "[encoded data removed]",
      "text/plain": [
       "<matplotlib.figure.Figure at 0x7fb15b84c7f0>"
      ]
     },
     "metadata": {},
     "output_type": "display_data"
    }
   ],
   "source": [
    "sns.set_style(\"whitegrid\")\n",
    "ax = sns.barplot(x=\"cluster\", y=\"title\", data=distribution_clusters)\n",
    "ax.set(ylabel='# películas', xlabel='Cluster')\n",
    "ax.set_title('Clusters de películas nominadas a los Goya')\n",
    "plt.show()\n",
    "plt.close()"
   ]
  },
  {
   "cell_type": "code",
   "execution_count": 66,
   "metadata": {
    "collapsed": false
   },
   "outputs": [
    {
     "data": {
      "image/png": "[encoded data removed]",
      "text/plain": [
       "<matplotlib.figure.Figure at 0x7fb15c5315f8>"
      ]
     },
     "metadata": {},
     "output_type": "display_data"
    }
   ],
   "source": [
    "sns.set_style(\"whitegrid\")\n",
    "ax = sns.barplot(x=\"cluster\", y=\"title\", data=distribution_clusters_nom)\n",
    "ax.set(ylabel='# películas', xlabel='Cluster')\n",
    "ax.set_title('Clusters de películas nominadas a los Goya')\n",
    "plt.show()\n",
    "plt.close()"
   ]
  },
  {
   "cell_type": "code",
   "execution_count": 70,
   "metadata": {
    "collapsed": false
   },
   "outputs": [
    {
     "name": "stdout",
     "output_type": "stream",
     "text": [
      "['Estiu 1993', 'Magical Girl', '15 años y un día', 'Pa negre', 'El orfanato', 'La soledad', 'Volver', 'La mala educación', 'Mi vida sin mí', 'Los otros', 'Sin noticias de Dios', 'El Bola', 'Cuando vuelvas a mi lado', 'La lengua de las mariposas', 'Solas', 'Todo sobre mi madre']\n"
     ]
    }
   ],
   "source": [
    "print(list(frame[(frame.cluster==0) & (frame.nom_mejor_pelicula ==1)].title))"
   ]
  },
  {
   "cell_type": "code",
   "execution_count": 74,
   "metadata": {
    "collapsed": false
   },
   "outputs": [
    {
     "name": "stdout",
     "output_type": "stream",
     "text": [
      "['El autor', 'La librería', 'Truman', 'Un día perfecto', 'El Niño', 'Caníbal', 'La herida', 'Grupo 7', 'Balada triste de trompeta', 'También la lluvia', 'Agora', 'Los crímenes de Oxford', 'El laberinto del fauno', 'Obaba', 'Mar adentro', 'Planta 4', 'Hable con ella', 'Los lunes al sol']\n"
     ]
    }
   ],
   "source": [
    "print(list(frame[(frame.cluster==1) & (frame.nom_mejor_pelicula ==1)].title))"
   ]
  },
  {
   "cell_type": "code",
   "execution_count": 73,
   "metadata": {
    "collapsed": false
   },
   "outputs": [
    {
     "name": "stdout",
     "output_type": "stream",
     "text": [
      "['Verónica', 'El hombre de las mil caras', 'Un monstruo viene a verme', 'Nadie quiere la noche', 'Blancanieves', 'No habrá paz para los malvados', 'Buried \\x96 Enterrado', '7 vírgenes', 'En la ciudad sin límites']\n"
     ]
    }
   ],
   "source": [
    "print(list(frame[(frame.cluster==2) & (frame.nom_mejor_pelicula ==1)].title))"
   ]
  },
  {
   "cell_type": "code",
   "execution_count": 75,
   "metadata": {
    "collapsed": false
   },
   "outputs": [
    {
     "name": "stdout",
     "output_type": "stream",
     "text": [
      "['Que Dios nos perdone', 'Tarde para la ira', 'A cambio de nada', 'La isla mínima', 'La gran familia española', 'El secreto de sus ojos', 'Siete mesas de billar francés', 'Alatriste', 'Princesas', 'Tiovivo c. 1950', 'Te doy mis ojos', 'El otro lado de la cama', 'Lucía y el sexo', 'La comunidad', 'Leo', 'You\\x92re the One (Una historia de entonces)']\n"
     ]
    }
   ],
   "source": [
    "print(list(frame[(frame.cluster==3) & (frame.nom_mejor_pelicula ==1)].title))"
   ]
  },
  {
   "cell_type": "code",
   "execution_count": 76,
   "metadata": {
    "collapsed": false
   },
   "outputs": [
    {
     "name": "stdout",
     "output_type": "stream",
     "text": [
      "['Handia', 'Julieta', 'La novia', 'Loreak', 'Relatos salvajes', 'Vivir es fácil con los ojos cerrados', 'El artista y la modelo', 'Lo imposible', 'Blackthorn. Sin destino', 'La piel que habito', 'La voz dormida', 'Celda 211', 'El baile de la Victoria', 'Camino', 'Los girasoles ciegos', 'Sólo quiero caminar', 'Las 13 rosas', 'Salvador (Puig Antich)', 'La vida secreta de las palabras', 'Roma', 'Soldados de Salamina', 'Juana la Loca']\n"
     ]
    }
   ],
   "source": [
    "print(list(frame[(frame.cluster==4) & (frame.nom_mejor_pelicula ==1)].title))"
   ]
  },
  {
   "cell_type": "code",
   "execution_count": 77,
   "metadata": {
    "collapsed": true
   },
   "outputs": [],
   "source": [
    "# sólo las películas nominadas a mejor película\n",
    "frame_nom = frame[frame.nom_mejor_pelicula==1]"
   ]
  },
  {
   "cell_type": "code",
   "execution_count": 78,
   "metadata": {
    "collapsed": false
   },
   "outputs": [],
   "source": [
    "over_edition = frame[['edition', 'cluster', 'title']].groupby(['edition', 'cluster']).count().reset_index()"
   ]
  },
  {
   "cell_type": "code",
   "execution_count": 79,
   "metadata": {
    "collapsed": false
   },
   "outputs": [
    {
     "data": {
      "image/png": "[encoded data removed]",
      "text/plain": [
       "<matplotlib.figure.Figure at 0x7fb15975dd30>"
      ]
     },
     "metadata": {},
     "output_type": "display_data"
    }
   ],
   "source": [
    "sns.set_style(\"whitegrid\")\n",
    "ax = sns.barplot(x=\"edition\", y=\"title\", hue=\"cluster\", data=over_edition)\n",
    "ax.set(ylabel='# películas', xlabel='Edición Premios Goya')\n",
    "ax.set_title('Cluster de películas nominadas a los Goya')\n",
    "plt.show()\n",
    "plt.close()"
   ]
  },
  {
   "cell_type": "code",
   "execution_count": 80,
   "metadata": {
    "collapsed": false
   },
   "outputs": [
    {
     "data": {
      "image/png": "[encoded data removed]",
      "text/plain": [
       "<matplotlib.figure.Figure at 0x7fb15961e4e0>"
      ]
     },
     "metadata": {},
     "output_type": "display_data"
    }
   ],
   "source": [
    "sns.set_style(\"whitegrid\")\n",
    "ax = sns.barplot(x=\"edition\", y=\"title\", hue=\"cluster\", data=frame[frame.nom_mejor_pelicula==1][['edition', 'cluster', 'title']].groupby(['edition', 'cluster']).count().reset_index())\n",
    "ax.set(ylabel='# películas', xlabel='Edición Premios Goya')\n",
    "ax.set_title('Cluster de películas nominadas a los Goya en la candidatura Mejor Película')\n",
    "plt.show()\n",
    "plt.close()"
   ]
  },
  {
   "cell_type": "code",
   "execution_count": 96,
   "metadata": {
    "collapsed": false
   },
   "outputs": [
    {
     "data": {
      "text/html": [
       "<div>\n",
       "<table border=\"1\" class=\"dataframe\">\n",
       "  <thead>\n",
       "    <tr>\n",
       "      <th></th>\n",
       "      <th>cluster</th>\n",
       "      <th colspan=\"3\" halign=\"left\">gana_mejor_pelicula</th>\n",
       "    </tr>\n",
       "    <tr>\n",
       "      <th></th>\n",
       "      <th></th>\n",
       "      <th>count</th>\n",
       "      <th>sum</th>\n",
       "      <th>mean</th>\n",
       "    </tr>\n",
       "  </thead>\n",
       "  <tbody>\n",
       "    <tr>\n",
       "      <th>0</th>\n",
       "      <td>0</td>\n",
       "      <td>16</td>\n",
       "      <td>7.0</td>\n",
       "      <td>0.437500</td>\n",
       "    </tr>\n",
       "    <tr>\n",
       "      <th>1</th>\n",
       "      <td>1</td>\n",
       "      <td>18</td>\n",
       "      <td>5.0</td>\n",
       "      <td>0.277778</td>\n",
       "    </tr>\n",
       "    <tr>\n",
       "      <th>2</th>\n",
       "      <td>2</td>\n",
       "      <td>9</td>\n",
       "      <td>2.0</td>\n",
       "      <td>0.222222</td>\n",
       "    </tr>\n",
       "    <tr>\n",
       "      <th>3</th>\n",
       "      <td>3</td>\n",
       "      <td>16</td>\n",
       "      <td>4.0</td>\n",
       "      <td>0.250000</td>\n",
       "    </tr>\n",
       "    <tr>\n",
       "      <th>4</th>\n",
       "      <td>4</td>\n",
       "      <td>22</td>\n",
       "      <td>4.0</td>\n",
       "      <td>0.181818</td>\n",
       "    </tr>\n",
       "  </tbody>\n",
       "</table>\n",
       "</div>"
      ],
      "text/plain": [
       "  cluster gana_mejor_pelicula               \n",
       "                        count  sum      mean\n",
       "0       0                  16  7.0  0.437500\n",
       "1       1                  18  5.0  0.277778\n",
       "2       2                   9  2.0  0.222222\n",
       "3       3                  16  4.0  0.250000\n",
       "4       4                  22  4.0  0.181818"
      ]
     },
     "execution_count": 96,
     "metadata": {},
     "output_type": "execute_result"
    }
   ],
   "source": [
    "# nominadas en cada cluster y pct de ganadoras del premio Goya a mejor película\n",
    "frame_nom[['cluster', 'gana_mejor_pelicula']].groupby(['cluster']).agg(['count', 'sum', 'mean']).reset_index()"
   ]
  },
  {
   "cell_type": "markdown",
   "metadata": {},
   "source": [
    "#### ¿Cuáles son los términos que hay detrás del clúster?"
   ]
  },
  {
   "cell_type": "code",
   "execution_count": 97,
   "metadata": {
    "collapsed": false
   },
   "outputs": [
    {
     "name": "stdout",
     "output_type": "stream",
     "text": [
      "Palabras top por cluster:\n",
      "\n",
      "Palabras Cluster 0 : niña, hijos, madre, padre, casa, abuela, viaje, jóvenes, barrio, hermanos, hermano, regresa, ciudad, encontrando, miedo, familia, descubre, pequeña, punto, nan, problemas, decide, adolescente, escuela, situación, enseña,\n",
      "\n",
      "Palabras Cluster 1 : mundo, grupo, formará, decide, pequeña, hombre, personajes, descubre, cambiarán, ciudad, única, ayudar, sale, llegan, mujer, pueblo, sueños, siente, viaje, aventuras, jóvenes, planeta, compañía, perro, dejando, destino,\n",
      "\n",
      "Palabras Cluster 2 : casa, noche, amigas, familia, secreto, descubre, jóvenes, pasan, mundo, amor, pueblo, invitan, llegan, mujer, contada, vuelve, aventuras, esconder, padre, novia, compromisos, vieja, dormir, muerte, niña, policía,\n",
      "\n",
      "Palabras Cluster 3 : chica, jóvenes, nan, leer, enamora, ganas, sale, nan, descubre, acaba, nan, familia, mujer, llegan, huida, relación, encerrada, viaje, hombre, amor, atracar, recoge, barrio, novia, industrial, cambiarán,\n",
      "\n",
      "Palabras Cluster 4 : mujer, jóvenes, llegan, hijos, encontrando, guerra, amor, luchado, hombre, familia, viaje, busca, nan, realidad, cambiarán, española, político, clase, dejando, camino, convierte, muerte, mirada, abandonar, personas, escritor,\n",
      "\n"
     ]
    }
   ],
   "source": [
    "from __future__ import print_function\n",
    "\n",
    "# frame.index = range(len(frame.index))\n",
    "\n",
    "print(\"Palabras top por cluster:\")\n",
    "print()\n",
    "order_centroids = km.cluster_centers_.argsort()[:, ::-1] \n",
    "for i in range(num_clusters):\n",
    "    print(\"Palabras Cluster %d :\" % i, end='')\n",
    "    \n",
    "    for ind in order_centroids[i, :26]: #15 palabras por cluster\n",
    "        print(' %s' % str(vocab_frame.ix[terms[ind].split(' ')].values.tolist()[0][0]), end=',')\n",
    "    print()\n",
    "    print()\n",
    "    \n",
    "#     print(\"Cluster %d titles:\" % i, end='')\n",
    "#     for title in frame.ix[i]['title'].values.tolist():\n",
    "#         print(' %s,' % title, end='')\n",
    "#     print() #add whitespace\n",
    "#     print() #add whitespace\n"
   ]
  },
  {
   "cell_type": "code",
   "execution_count": 104,
   "metadata": {
    "collapsed": false
   },
   "outputs": [],
   "source": [
    "import os  # for os.path.basename\n",
    "import matplotlib.pyplot as plt\n",
    "import matplotlib as mpl\n",
    "from sklearn.manifold import MDS\n",
    "\n",
    "MDS()\n",
    "\n",
    "# Convertimos el resultado en 2 componentes para poder representarlo\n",
    "\n",
    "mds = MDS(n_components=2, dissimilarity=\"precomputed\", random_state=1)\n",
    "\n",
    "pos = mds.fit_transform(dist)  # shape (n_components, n_samples)\n",
    "\n",
    "xs, ys = pos[:, 0], pos[:, 1]"
   ]
  },
  {
   "cell_type": "code",
   "execution_count": 100,
   "metadata": {
    "collapsed": true
   },
   "outputs": [],
   "source": [
    "#set up colors per clusters using a dict\n",
    "cluster_colors = {0: '#1b9e77', 1: '#d95f02', 2: '#7570b3', 3: '#e7298a', 4: '#66a61e'}\n",
    "\n",
    "#set up cluster names using a dict\n",
    "cluster_names = {0: 'Familia y costumbrismo', \n",
    "                 1: 'Aventuras y fantasía', \n",
    "                 2: 'Drama, sucesos y terror', \n",
    "                 3: 'Mujeres', \n",
    "                 4: 'Amor y guerra, cine historico'}"
   ]
  },
  {
   "cell_type": "code",
   "execution_count": 102,
   "metadata": {
    "collapsed": false
   },
   "outputs": [
    {
     "data": {
      "image/png": "[encoded data removed]",
      "text/plain": [
       "<matplotlib.figure.Figure at 0x7fb1590cfdd8>"
      ]
     },
     "metadata": {},
     "output_type": "display_data"
    }
   ],
   "source": [
    "%matplotlib inline \n",
    "\n",
    "#crear dataframe, con los resultados de la descomposicion y otra información\n",
    "df = pd.DataFrame(dict(x=xs, y=ys, label=clusters, title=list(frame.title),\n",
    "                       nom_mejor_pelicula = list(frame.nom_mejor_pelicula),\n",
    "                       gana_mejor_pelicula = list(frame.gana_mejor_pelicula),\n",
    "                      ))\n",
    "df = df[df.nom_mejor_pelicula==1]\n",
    "df.index = range(len(df.index))\n",
    "\n",
    "#agrupamos por cluster\n",
    "groups = df.groupby('label')\n",
    "\n",
    "fig, ax = plt.subplots(figsize=(17, 9)) # set size\n",
    "ax.margins(0.05) # Optional, just adds 5% padding to the autoscaling\n",
    "\n",
    "for name, group in groups:\n",
    "    ax.plot(group.x, group.y, marker='o', linestyle='', ms=12, \n",
    "            label=cluster_names[name], color=cluster_colors[name], \n",
    "            mec='none')\n",
    "    ax.set_aspect('auto')\n",
    "    ax.tick_params(\\\n",
    "        axis= 'x',          \n",
    "        which='both',     \n",
    "        bottom='off',     \n",
    "        top='off',        \n",
    "        labelbottom='off')\n",
    "    ax.tick_params(\\\n",
    "        axis= 'y',        \n",
    "        which='both',     \n",
    "        left='off',      \n",
    "        top='off',       \n",
    "        labelleft='off')\n",
    "    \n",
    "ax.legend(numpoints=1)  \n",
    "\n",
    "for i in range(len(df)):\n",
    "    ax.text(df.ix[i]['x'], \n",
    "            df.ix[i]['y'],\n",
    "            df.ix[i]['title'], size=10)  \n",
    "  \n",
    "    \n",
    "plt.show()\n",
    "plt.close()"
   ]
  },
  {
   "cell_type": "markdown",
   "metadata": {},
   "source": [
    "### 5.4. Clustering jerárquico"
   ]
  },
  {
   "cell_type": "markdown",
   "metadata": {},
   "source": [
    "El [método Ward](https://es.wikipedia.org/wiki/Método_de_Ward) es un algoritmo de clustering jerárquico. Nos permite en cada etapa identificar el par de clusters con la mínima distancia. Para realizarlo emplearemos la distancia previamente calculada. \n",
    "\n",
    "Devuelve 2 clusters principales, reemplazando a los 5 anteriores"
   ]
  },
  {
   "cell_type": "code",
   "execution_count": 103,
   "metadata": {
    "collapsed": false
   },
   "outputs": [],
   "source": [
    "from scipy.cluster.hierarchy import ward, dendrogram\n",
    "\n",
    "linkage_matrix = ward(dist) #define the linkage_matrix using ward clustering pre-computed distances\n",
    "\n",
    "fig, ax = plt.subplots(figsize=(15, 20))\n",
    "ax = dendrogram(linkage_matrix, orientation=\"right\", labels=list(info_pelis.titulo));\n",
    "\n",
    "plt.tick_params(\\\n",
    "    axis= 'x',    \n",
    "    which='both', \n",
    "    bottom='off', \n",
    "    top='off',    \n",
    "    labelbottom='off')\n",
    "\n",
    "plt.tight_layout()\n",
    "\n",
    "plt.savefig('ward_clusters.png', dpi=500) \n",
    "plt.close()"
   ]
  },
  {
   "cell_type": "markdown",
   "metadata": {},
   "source": [
    "<img src=\"ward_clusters.png\" alt=\"Logo\" style=\"width: 500px;\"/>"
   ]
  },
  {
   "cell_type": "markdown",
   "metadata": {},
   "source": [
    "## 6. Topic modelling"
   ]
  },
  {
   "cell_type": "markdown",
   "metadata": {},
   "source": [
    "Latent Dirichlet Allocation (LDA) es un modelo generativo que permite que conjuntos de observaciones puedan ser explicados por grupos no observados que explican por qué algunas partes de los datos son similares. Por ejemplo, si las observaciones son palabras en documentos, presupone que cada documento es una mezcla de un pequeño número de categorías (también denominados como tópicos/temas) y la aparición de cada palabra en un documento se debe a una de las categorías a las que el documento pertenece.  "
   ]
  },
  {
   "cell_type": "markdown",
   "metadata": {},
   "source": [
    "<img src=\"lda.jpg\" alt=\"LDA\" style=\"width: 500px;\"/>"
   ]
  },
  {
   "cell_type": "code",
   "execution_count": 105,
   "metadata": {
    "collapsed": true
   },
   "outputs": [],
   "source": [
    "import string\n",
    "def strip_proppers(text):\n",
    "    # first tokenize by sentence, then by word to ensure that punctuation is caught as it's own token\n",
    "    tokens = [word for sent in nltk.sent_tokenize(text) for word in nltk.word_tokenize(sent) if word.islower()]\n",
    "    return \"\".join([\" \"+i if not i.startswith(\"'\") and i not in string.punctuation else i for i in tokens]).strip()"
   ]
  },
  {
   "cell_type": "code",
   "execution_count": 106,
   "metadata": {
    "collapsed": true
   },
   "outputs": [],
   "source": [
    "def strip_proppers_spacy(text):\n",
    "    token_list = []\n",
    "    doc = nlp(text)\n",
    "    for token in doc:\n",
    "        if token.is_stop == False and token.is_alpha == True and token.pos_ not in ['PROPN', 'CONJ', 'ADP', 'DET']:\n",
    "            token_list.append(token.text.lower())\n",
    "    return ' '.join(token_list)"
   ]
  },
  {
   "cell_type": "code",
   "execution_count": 107,
   "metadata": {
    "collapsed": false
   },
   "outputs": [
    {
     "name": "stdout",
     "output_type": "stream",
     "text": [
      "gata se llama\n",
      "gata llama\n"
     ]
    }
   ],
   "source": [
    "print(strip_proppers(\"Mi gata se llama Bjork.\"))\n",
    "print(strip_proppers_spacy(\"Mi gata se llama Bjork.\"))"
   ]
  },
  {
   "cell_type": "code",
   "execution_count": 108,
   "metadata": {
    "collapsed": true
   },
   "outputs": [],
   "source": [
    "from nltk.tag import pos_tag\n",
    "def strip_proppers_POS(text):\n",
    "    tagged = pos_tag(text.split())\n",
    "    non_propernouns = [word for word,pos in tagged if pos != 'NNP' and pos != 'NNPS']\n",
    "    return non_propernouns"
   ]
  },
  {
   "cell_type": "code",
   "execution_count": 110,
   "metadata": {
    "collapsed": false
   },
   "outputs": [
    {
     "name": "stdout",
     "output_type": "stream",
     "text": [
      "CPU times: user 40.4 s, sys: 460 ms, total: 40.9 s\n",
      "Wall time: 20.5 s\n",
      "CPU times: user 30.7 s, sys: 424 ms, total: 31.2 s\n",
      "Wall time: 15.8 s\n",
      "CPU times: user 12 ms, sys: 0 ns, total: 12 ms\n",
      "Wall time: 5.73 ms\n"
     ]
    }
   ],
   "source": [
    "from gensim import corpora, models, similarities \n",
    "\n",
    "#remove proper names\n",
    "%time preprocess = [strip_proppers_spacy(doc) for doc in synopses]\n",
    "\n",
    "#tokenize\n",
    "%time tokenized_text = [tokenize_and_lemm_spacy(text) for text in preprocess]\n",
    "\n",
    "#remove stop words\n",
    "%time texts = [[word for word in text if word not in MY_STOP_WORDS] for text in tokenized_text]"
   ]
  },
  {
   "cell_type": "code",
   "execution_count": 111,
   "metadata": {
    "collapsed": true
   },
   "outputs": [],
   "source": [
    "#create a Gensim dictionary from the texts\n",
    "dictionary = corpora.Dictionary(texts)\n",
    "\n",
    "#remove extremes (similar to the min/max df step used when creating the tf-idf matrix)\n",
    "dictionary.filter_extremes(no_below=1, no_above=0.8)\n",
    "\n",
    "#convert the dictionary to a bag of words corpus for reference\n",
    "corpus = [dictionary.doc2bow(text) for text in texts]"
   ]
  },
  {
   "cell_type": "code",
   "execution_count": 114,
   "metadata": {
    "collapsed": false
   },
   "outputs": [
    {
     "name": "stdout",
     "output_type": "stream",
     "text": [
      "CPU times: user 5min 13s, sys: 260 ms, total: 5min 13s\n",
      "Wall time: 5min 14s\n"
     ]
    }
   ],
   "source": [
    "%time lda = models.LdaModel(corpus, num_topics=3, id2word=dictionary, update_every=5, chunksize=10000, passes=100)"
   ]
  },
  {
   "cell_type": "code",
   "execution_count": 115,
   "metadata": {
    "collapsed": false
   },
   "outputs": [
    {
     "data": {
      "text/plain": [
       "[(0,\n",
       "  '0.007*\"joven\" + 0.007*\"mujer\" + 0.005*\"casar\" + 0.005*\"llegar\" + 0.004*\"familia\" + 0.004*\"hijo\" + 0.004*\"encontrar\" + 0.004*\"viajar\" + 0.004*\"mundo\" + 0.004*\"relación\"'),\n",
       " (1,\n",
       "  '0.006*\"niño\" + 0.005*\"hijo\" + 0.005*\"joven\" + 0.005*\"hombre\" + 0.004*\"casar\" + 0.003*\"padre\" + 0.003*\"mujer\" + 0.003*\"mundo\" + 0.003*\"amor\" + 0.003*\"llegar\"'),\n",
       " (2,\n",
       "  '0.007*\"hijo\" + 0.007*\"joven\" + 0.006*\"padre\" + 0.006*\"descubrir\" + 0.006*\"mundo\" + 0.006*\"llegar\" + 0.006*\"casar\" + 0.005*\"niño\" + 0.004*\"familia\" + 0.004*\"mujer\"')]"
      ]
     },
     "execution_count": 115,
     "metadata": {},
     "output_type": "execute_result"
    }
   ],
   "source": [
    "lda.show_topics()"
   ]
  }
 ],
 "metadata": {
  "kernelspec": {
   "display_name": "Python 3",
   "language": "python",
   "name": "python3"
  },
  "language_info": {
   "codemirror_mode": {
    "name": "ipython",
    "version": 3
   },
   "file_extension": ".py",
   "mimetype": "text/x-python",
   "name": "python",
   "nbconvert_exporter": "python",
   "pygments_lexer": "ipython3",
   "version": "3.6.0"
  }
 },
 "nbformat": 4,
 "nbformat_minor": 2
}
